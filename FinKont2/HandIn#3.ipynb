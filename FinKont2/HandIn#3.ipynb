{
 "cells": [
  {
   "cell_type": "markdown",
   "metadata": {},
   "source": [
    "# Question 2\n",
    "\n",
    "---"
   ]
  },
  {
   "cell_type": "markdown",
   "metadata": {},
   "source": [
    "## 1. SABR formula"
   ]
  },
  {
   "cell_type": "code",
   "execution_count": 1,
   "metadata": {
    "collapsed": true
   },
   "outputs": [],
   "source": [
    "# import modules\n",
    "import numpy as np\n",
    "from scipy.stats import norm\n",
    "\n",
    "import pandas as pd\n",
    "from collections import OrderedDict\n",
    "\n",
    "import matplotlib.pyplot as plt\n",
    "from matplotlib.legend_handler import HandlerLine2D"
   ]
  },
  {
   "cell_type": "markdown",
   "metadata": {},
   "source": [
    "First, implement the Black-Scholes formula to which we will feed the implied volatility computed according via SABR:"
   ]
  },
  {
   "cell_type": "code",
   "execution_count": 2,
   "metadata": {
    "collapsed": true
   },
   "outputs": [],
   "source": [
    "# Black-Scholes Formula\n",
    "def BlackScholes(S = 100, K = 100, r = 0.0, sigma = 0.15, T = 1):\n",
    "    d1 = (np.log(S / K) + (r + 0.5*(sigma ** 2)) * T)/(sigma * np.sqrt(T))\n",
    "    d2 = d1 - sigma * np.sqrt(T)\n",
    "    return S * norm.cdf(d1) - K * np.exp(-r * T) * norm.cdf(d2)"
   ]
  },
  {
   "cell_type": "markdown",
   "metadata": {},
   "source": [
    "The SABR formula as published by Hagan et al. (2002) has a few internal flaws. For this reason, the implementation is done as advocated in [Obloj (2008)](https://arxiv.org/pdf/0708.0998v3.pdf) (eqn. 2)."
   ]
  },
  {
   "cell_type": "code",
   "execution_count": 3,
   "metadata": {
    "collapsed": true
   },
   "outputs": [],
   "source": [
    "D = lambda x, rho: np.log((np.sqrt(1-2*rho*x+x**2)+x-rho)/(1-rho))"
   ]
  },
  {
   "cell_type": "code",
   "execution_count": 4,
   "metadata": {},
   "outputs": [],
   "source": [
    "# SABR implied volatility \n",
    "def sigma(F0, K, T, sigma0, alpha, beta, rho):\n",
    "    if F0 == K or (alpha == 0 and beta == 1):\n",
    "        I0 = sigma0*K**(beta-1)\n",
    "    elif alpha == 0:\n",
    "        I0 = np.log(F0/K)*sigma0*(1-beta)/(F0**(1-beta)-K**(1-beta))\n",
    "    elif beta == 1:\n",
    "        I0 = alpha * np.log(F0/K) / D(alpha/sigma0*np.log(F0/K),rho)\n",
    "    elif beta < 1:\n",
    "        I0 = alpha*np.log(F0/K)/D(alpha/(sigma0*(1-beta))*(F0**(1-beta)-K**(1-beta)),rho)\n",
    "    I1 = (sigma0*(1-beta))**2 / (24*(F0*K)**(1-beta)) \\\n",
    "        + 0.25*rho*beta*alpha*sigma0 / (F0*K)**((1-beta)/2) \\\n",
    "        + (2-3*rho**2)/24*alpha**2\n",
    "    return I0*(1+I1*T)"
   ]
  },
  {
   "cell_type": "markdown",
   "metadata": {},
   "source": [
    "Next, we are interested in applying the formula to our selection of inputs, which we read in the following dataframe:"
   ]
  },
  {
   "cell_type": "code",
   "execution_count": 5,
   "metadata": {},
   "outputs": [],
   "source": [
    "df1 = pd.DataFrame(OrderedDict({'Spot' : [100]*10,\n",
    "                                 'Strike' : [100, 70, 130]*3 + [150],\n",
    "                                 'Maturity' : [1, 3, 3, 3, 5, 5, 5, 10, 10, 10],                                \n",
    "                                 'Sigma' : [0.15, 1.5, 4.74]*3 + [0.15],                                \n",
    "                                 'Alpha' : [0.25, 0.2, 0.3, 0.05, 0.5, 0.25, 0.3, 0.25, 0.2, 0.25],\n",
    "                                 'Beta' : [1, 0.5, 0.25]*3 + [1],\n",
    "                                 'Rho' : [0, -0.5, -0.75, 0.5, 0.75, 0, 0.5, 0.75, -0.5, -0.75]\n",
    "                                }))"
   ]
  },
  {
   "cell_type": "code",
   "execution_count": 6,
   "metadata": {},
   "outputs": [
    {
     "name": "stdout",
     "output_type": "stream",
     "text": [
      "Wall time: 56 ms\n"
     ]
    }
   ],
   "source": [
    "%%time\n",
    "# Run the formula and store results in 2 new columns:\n",
    "df1['implVol'] = 0.0\n",
    "df1['SABR'] = 0.0\n",
    "for i in range(len(df1)):\n",
    "    F0, K, T, sigma0, alpha, beta, rho = df1.loc[i][:7]\n",
    "    df1.loc[i,'implVol'] = sigma(F0, K, T, sigma0, alpha, beta, rho)\n",
    "    df1.loc[i,'SABR'] = BlackScholes(S=F0, K=K, T=T,\n",
    "                                sigma=sigma(F0, K, T, sigma0, alpha, beta, rho))"
   ]
  },
  {
   "cell_type": "code",
   "execution_count": 7,
   "metadata": {},
   "outputs": [
    {
     "data": {
      "text/html": [
       "<div>\n",
       "<style>\n",
       "    .dataframe thead tr:only-child th {\n",
       "        text-align: right;\n",
       "    }\n",
       "\n",
       "    .dataframe thead th {\n",
       "        text-align: left;\n",
       "    }\n",
       "\n",
       "    .dataframe tbody tr th {\n",
       "        vertical-align: top;\n",
       "    }\n",
       "</style>\n",
       "<table border=\"1\" class=\"dataframe\">\n",
       "  <thead>\n",
       "    <tr style=\"text-align: right;\">\n",
       "      <th></th>\n",
       "      <th>Spot</th>\n",
       "      <th>Strike</th>\n",
       "      <th>Maturity</th>\n",
       "      <th>Sigma</th>\n",
       "      <th>Alpha</th>\n",
       "      <th>Beta</th>\n",
       "      <th>Rho</th>\n",
       "      <th>implVol</th>\n",
       "      <th>SABR</th>\n",
       "    </tr>\n",
       "  </thead>\n",
       "  <tbody>\n",
       "    <tr>\n",
       "      <th>0</th>\n",
       "      <td>100</td>\n",
       "      <td>100</td>\n",
       "      <td>1</td>\n",
       "      <td>0.15</td>\n",
       "      <td>0.25</td>\n",
       "      <td>1.00</td>\n",
       "      <td>0.00</td>\n",
       "      <td>0.150781</td>\n",
       "      <td>6.009608</td>\n",
       "    </tr>\n",
       "    <tr>\n",
       "      <th>1</th>\n",
       "      <td>100</td>\n",
       "      <td>70</td>\n",
       "      <td>3</td>\n",
       "      <td>1.50</td>\n",
       "      <td>0.20</td>\n",
       "      <td>0.50</td>\n",
       "      <td>-0.50</td>\n",
       "      <td>0.184155</td>\n",
       "      <td>31.751477</td>\n",
       "    </tr>\n",
       "    <tr>\n",
       "      <th>2</th>\n",
       "      <td>100</td>\n",
       "      <td>130</td>\n",
       "      <td>3</td>\n",
       "      <td>4.74</td>\n",
       "      <td>0.30</td>\n",
       "      <td>0.25</td>\n",
       "      <td>-0.75</td>\n",
       "      <td>0.109343</td>\n",
       "      <td>0.815159</td>\n",
       "    </tr>\n",
       "    <tr>\n",
       "      <th>3</th>\n",
       "      <td>100</td>\n",
       "      <td>100</td>\n",
       "      <td>3</td>\n",
       "      <td>0.15</td>\n",
       "      <td>0.05</td>\n",
       "      <td>1.00</td>\n",
       "      <td>0.50</td>\n",
       "      <td>0.150480</td>\n",
       "      <td>10.368667</td>\n",
       "    </tr>\n",
       "    <tr>\n",
       "      <th>4</th>\n",
       "      <td>100</td>\n",
       "      <td>70</td>\n",
       "      <td>5</td>\n",
       "      <td>1.50</td>\n",
       "      <td>0.50</td>\n",
       "      <td>0.50</td>\n",
       "      <td>0.75</td>\n",
       "      <td>0.128541</td>\n",
       "      <td>31.231053</td>\n",
       "    </tr>\n",
       "    <tr>\n",
       "      <th>5</th>\n",
       "      <td>100</td>\n",
       "      <td>130</td>\n",
       "      <td>5</td>\n",
       "      <td>4.74</td>\n",
       "      <td>0.25</td>\n",
       "      <td>0.25</td>\n",
       "      <td>0.00</td>\n",
       "      <td>0.144567</td>\n",
       "      <td>4.307074</td>\n",
       "    </tr>\n",
       "    <tr>\n",
       "      <th>6</th>\n",
       "      <td>100</td>\n",
       "      <td>100</td>\n",
       "      <td>5</td>\n",
       "      <td>0.15</td>\n",
       "      <td>0.30</td>\n",
       "      <td>1.00</td>\n",
       "      <td>0.50</td>\n",
       "      <td>0.157734</td>\n",
       "      <td>13.998290</td>\n",
       "    </tr>\n",
       "    <tr>\n",
       "      <th>7</th>\n",
       "      <td>100</td>\n",
       "      <td>70</td>\n",
       "      <td>10</td>\n",
       "      <td>1.50</td>\n",
       "      <td>0.25</td>\n",
       "      <td>0.50</td>\n",
       "      <td>0.75</td>\n",
       "      <td>0.140284</td>\n",
       "      <td>34.366243</td>\n",
       "    </tr>\n",
       "    <tr>\n",
       "      <th>8</th>\n",
       "      <td>100</td>\n",
       "      <td>130</td>\n",
       "      <td>10</td>\n",
       "      <td>4.74</td>\n",
       "      <td>0.20</td>\n",
       "      <td>0.25</td>\n",
       "      <td>-0.50</td>\n",
       "      <td>0.127301</td>\n",
       "      <td>7.031888</td>\n",
       "    </tr>\n",
       "    <tr>\n",
       "      <th>9</th>\n",
       "      <td>100</td>\n",
       "      <td>150</td>\n",
       "      <td>10</td>\n",
       "      <td>0.15</td>\n",
       "      <td>0.25</td>\n",
       "      <td>1.00</td>\n",
       "      <td>-0.75</td>\n",
       "      <td>0.110415</td>\n",
       "      <td>2.569900</td>\n",
       "    </tr>\n",
       "  </tbody>\n",
       "</table>\n",
       "</div>"
      ],
      "text/plain": [
       "   Spot  Strike  Maturity  Sigma  Alpha  Beta   Rho   implVol       SABR\n",
       "0   100     100         1   0.15   0.25  1.00  0.00  0.150781   6.009608\n",
       "1   100      70         3   1.50   0.20  0.50 -0.50  0.184155  31.751477\n",
       "2   100     130         3   4.74   0.30  0.25 -0.75  0.109343   0.815159\n",
       "3   100     100         3   0.15   0.05  1.00  0.50  0.150480  10.368667\n",
       "4   100      70         5   1.50   0.50  0.50  0.75  0.128541  31.231053\n",
       "5   100     130         5   4.74   0.25  0.25  0.00  0.144567   4.307074\n",
       "6   100     100         5   0.15   0.30  1.00  0.50  0.157734  13.998290\n",
       "7   100      70        10   1.50   0.25  0.50  0.75  0.140284  34.366243\n",
       "8   100     130        10   4.74   0.20  0.25 -0.50  0.127301   7.031888\n",
       "9   100     150        10   0.15   0.25  1.00 -0.75  0.110415   2.569900"
      ]
     },
     "execution_count": 7,
     "metadata": {},
     "output_type": "execute_result"
    }
   ],
   "source": [
    "df1"
   ]
  },
  {
   "cell_type": "markdown",
   "metadata": {},
   "source": [
    "We managed to reproduce the SABR prices given as benchmarks."
   ]
  },
  {
   "cell_type": "markdown",
   "metadata": {},
   "source": [
    "---\n",
    "\n",
    "## 2. Monte Carlo simulations for SABR"
   ]
  },
  {
   "cell_type": "markdown",
   "metadata": {},
   "source": [
    "### a. Derive $\\alpha$ and $\\beta$\n",
    "\n",
    "The correlation is computed as follows:\n",
    "$$Corr\\left(\\tilde{N_2},N_1\\right) = \\frac{Cov\\left(\\tilde{N}_2,N_1\\right)}{\\sqrt{Var\\left(\\tilde{N}_2\\right)}\\sqrt{Var\\left(N_1\\right)}}$$\n",
    "\n",
    "The explicit form is reached by computing the covariance and variances:\n",
    "\n",
    "\\begin{align*}\n",
    "Cov\\left(\\tilde{N}_2,N_1\\right) & = E\\left[\\left(\\tilde{N}_2-E\\left(\\tilde{N}_2\\right)\\right)\\left(N_1-E\\left(N_1\\right)\\right)\\right]\\\\\n",
    "& = E\\left[\\tilde{N}_2N_1\\right] \\\\\n",
    "& = E\\left[\\left(\\alpha N_1 + \\beta N_2\\right)N_1\\right]\\\\\n",
    "& = E\\left[\\alpha N_1^2\\right]\\\\\n",
    "& = \\alpha\n",
    "\\end{align*}\n",
    "\n",
    "\\begin{align*}\n",
    "Var\\left(\\tilde{N}_2\\right) & = E\\left[\\left(\\tilde{N}_2-E\\left(\\tilde{N}_2\\right)\\right)^2\\right]\\\\\n",
    "& = E\\left[\\tilde{N}_2^2\\right] \\\\\n",
    "& = E\\left[\\left(\\alpha N_1 + \\beta N_2 \\right)^2\\right]\\\\\n",
    "& = \\alpha^2 + \\beta^2\n",
    "\\end{align*}\n",
    "\n",
    "And $Var\\left(N_1\\right) = 1$ by assumption.\n",
    "\n",
    "To find our $\\alpha$ and $\\beta$, we must have:\n",
    "\n",
    "\n",
    "\\begin{equation*}\n",
    "    \\begin{cases}\n",
    "        Var\\left(\\tilde{N}_2\\right) = 1, \\\\ \n",
    "        Corr\\left(\\tilde{N}_2,N_1\\right) = \\rho\n",
    "    \\end{cases} \\quad\n",
    "\\Leftrightarrow \\quad\n",
    "    \\begin{cases}\n",
    "        \\alpha^2+\\beta^2 = 1, \\\\ \n",
    "        \\alpha = \\rho\n",
    "    \\end{cases}\n",
    "\\Leftrightarrow \\quad\n",
    "    \\begin{cases}\n",
    "        \\alpha = \\rho, \\\\ \n",
    "        \\beta = \\sqrt{1-\\rho^2}\n",
    "    \\end{cases}\n",
    "\\end{equation*}"
   ]
  },
  {
   "cell_type": "markdown",
   "metadata": {},
   "source": [
    "### b. Euler scheme implementation"
   ]
  },
  {
   "cell_type": "markdown",
   "metadata": {},
   "source": [
    "The following function implements the Monte-Carlo simulations for SABR. The implementation treats zero as an absorbing boundary. That is, if the path reaches zero it will remain at this level till maturity."
   ]
  },
  {
   "cell_type": "code",
   "execution_count": 8,
   "metadata": {},
   "outputs": [],
   "source": [
    "def MonteCarlo_SABR(spot, strike, T, sigma0, alpha, beta, rho, nPaths, nSteps):\n",
    "    dt = T / nSteps\n",
    "    S = np.full(nPaths, spot)\n",
    "    logSigma = np.full(nPaths, np.log(sigma0))\n",
    "    \n",
    "    for i in range(nSteps):\n",
    "        idx = S > 0        \n",
    "        N1, N2 = np.random.normal(size=(2,idx.sum()))\n",
    "        N2 = rho * N1 + np.sqrt(1-rho**2) * N2\n",
    "        S[idx] = S[idx] + np.exp(logSigma[idx]) * S[idx]**beta * np.sqrt(dt) * N1\n",
    "        logSigma[idx] = logSigma[idx] - 0.5 * alpha**2*dt + alpha * np.sqrt(dt) * N2\n",
    "\n",
    "    return np.mean(np.maximum(S - strike, 0))"
   ]
  },
  {
   "cell_type": "markdown",
   "metadata": {},
   "source": [
    "### c. Results"
   ]
  },
  {
   "cell_type": "markdown",
   "metadata": {},
   "source": [
    "Taking the number of paths (simulations) to be equal to 10000 and the number of steps equal to 252 per year, we run once our Monte Carlo SABR simulation for each entry in our table:"
   ]
  },
  {
   "cell_type": "code",
   "execution_count": 9,
   "metadata": {},
   "outputs": [
    {
     "name": "stdout",
     "output_type": "stream",
     "text": [
      "Wall time: 29 s\n"
     ]
    }
   ],
   "source": [
    "%%time\n",
    "df1['MC SABR'] = 0.0\n",
    "for i in range(len(df1)):\n",
    "    spot, strike, T, sigma0, alpha, beta, rho = df1.loc[i][:7]\n",
    "    df1.loc[i,'MC SABR'] = MonteCarlo_SABR(spot, strike, T, sigma0, alpha, beta, rho, 10000, int(252*T))"
   ]
  },
  {
   "cell_type": "code",
   "execution_count": 10,
   "metadata": {},
   "outputs": [
    {
     "data": {
      "text/html": [
       "<div>\n",
       "<style>\n",
       "    .dataframe thead tr:only-child th {\n",
       "        text-align: right;\n",
       "    }\n",
       "\n",
       "    .dataframe thead th {\n",
       "        text-align: left;\n",
       "    }\n",
       "\n",
       "    .dataframe tbody tr th {\n",
       "        vertical-align: top;\n",
       "    }\n",
       "</style>\n",
       "<table border=\"1\" class=\"dataframe\">\n",
       "  <thead>\n",
       "    <tr style=\"text-align: right;\">\n",
       "      <th></th>\n",
       "      <th>Spot</th>\n",
       "      <th>Strike</th>\n",
       "      <th>Maturity</th>\n",
       "      <th>Sigma</th>\n",
       "      <th>Alpha</th>\n",
       "      <th>Beta</th>\n",
       "      <th>Rho</th>\n",
       "      <th>implVol</th>\n",
       "      <th>SABR</th>\n",
       "      <th>MC SABR</th>\n",
       "    </tr>\n",
       "  </thead>\n",
       "  <tbody>\n",
       "    <tr>\n",
       "      <th>0</th>\n",
       "      <td>100</td>\n",
       "      <td>100</td>\n",
       "      <td>1</td>\n",
       "      <td>0.15</td>\n",
       "      <td>0.25</td>\n",
       "      <td>1.00</td>\n",
       "      <td>0.00</td>\n",
       "      <td>0.150781</td>\n",
       "      <td>6.009608</td>\n",
       "      <td>5.873263</td>\n",
       "    </tr>\n",
       "    <tr>\n",
       "      <th>1</th>\n",
       "      <td>100</td>\n",
       "      <td>70</td>\n",
       "      <td>3</td>\n",
       "      <td>1.50</td>\n",
       "      <td>0.20</td>\n",
       "      <td>0.50</td>\n",
       "      <td>-0.50</td>\n",
       "      <td>0.184155</td>\n",
       "      <td>31.751477</td>\n",
       "      <td>32.001474</td>\n",
       "    </tr>\n",
       "    <tr>\n",
       "      <th>2</th>\n",
       "      <td>100</td>\n",
       "      <td>130</td>\n",
       "      <td>3</td>\n",
       "      <td>4.74</td>\n",
       "      <td>0.30</td>\n",
       "      <td>0.25</td>\n",
       "      <td>-0.75</td>\n",
       "      <td>0.109343</td>\n",
       "      <td>0.815159</td>\n",
       "      <td>0.824826</td>\n",
       "    </tr>\n",
       "    <tr>\n",
       "      <th>3</th>\n",
       "      <td>100</td>\n",
       "      <td>100</td>\n",
       "      <td>3</td>\n",
       "      <td>0.15</td>\n",
       "      <td>0.05</td>\n",
       "      <td>1.00</td>\n",
       "      <td>0.50</td>\n",
       "      <td>0.150480</td>\n",
       "      <td>10.368667</td>\n",
       "      <td>10.814899</td>\n",
       "    </tr>\n",
       "    <tr>\n",
       "      <th>4</th>\n",
       "      <td>100</td>\n",
       "      <td>70</td>\n",
       "      <td>5</td>\n",
       "      <td>1.50</td>\n",
       "      <td>0.50</td>\n",
       "      <td>0.50</td>\n",
       "      <td>0.75</td>\n",
       "      <td>0.128541</td>\n",
       "      <td>31.231053</td>\n",
       "      <td>32.125685</td>\n",
       "    </tr>\n",
       "    <tr>\n",
       "      <th>5</th>\n",
       "      <td>100</td>\n",
       "      <td>130</td>\n",
       "      <td>5</td>\n",
       "      <td>4.74</td>\n",
       "      <td>0.25</td>\n",
       "      <td>0.25</td>\n",
       "      <td>0.00</td>\n",
       "      <td>0.144567</td>\n",
       "      <td>4.307074</td>\n",
       "      <td>4.254719</td>\n",
       "    </tr>\n",
       "    <tr>\n",
       "      <th>6</th>\n",
       "      <td>100</td>\n",
       "      <td>100</td>\n",
       "      <td>5</td>\n",
       "      <td>0.15</td>\n",
       "      <td>0.30</td>\n",
       "      <td>1.00</td>\n",
       "      <td>0.50</td>\n",
       "      <td>0.157734</td>\n",
       "      <td>13.998290</td>\n",
       "      <td>13.729044</td>\n",
       "    </tr>\n",
       "    <tr>\n",
       "      <th>7</th>\n",
       "      <td>100</td>\n",
       "      <td>70</td>\n",
       "      <td>10</td>\n",
       "      <td>1.50</td>\n",
       "      <td>0.25</td>\n",
       "      <td>0.50</td>\n",
       "      <td>0.75</td>\n",
       "      <td>0.140284</td>\n",
       "      <td>34.366243</td>\n",
       "      <td>33.459083</td>\n",
       "    </tr>\n",
       "    <tr>\n",
       "      <th>8</th>\n",
       "      <td>100</td>\n",
       "      <td>130</td>\n",
       "      <td>10</td>\n",
       "      <td>4.74</td>\n",
       "      <td>0.20</td>\n",
       "      <td>0.25</td>\n",
       "      <td>-0.50</td>\n",
       "      <td>0.127301</td>\n",
       "      <td>7.031888</td>\n",
       "      <td>7.021663</td>\n",
       "    </tr>\n",
       "    <tr>\n",
       "      <th>9</th>\n",
       "      <td>100</td>\n",
       "      <td>150</td>\n",
       "      <td>10</td>\n",
       "      <td>0.15</td>\n",
       "      <td>0.25</td>\n",
       "      <td>1.00</td>\n",
       "      <td>-0.75</td>\n",
       "      <td>0.110415</td>\n",
       "      <td>2.569900</td>\n",
       "      <td>2.526734</td>\n",
       "    </tr>\n",
       "  </tbody>\n",
       "</table>\n",
       "</div>"
      ],
      "text/plain": [
       "   Spot  Strike  Maturity  Sigma  Alpha  Beta   Rho   implVol       SABR  \\\n",
       "0   100     100         1   0.15   0.25  1.00  0.00  0.150781   6.009608   \n",
       "1   100      70         3   1.50   0.20  0.50 -0.50  0.184155  31.751477   \n",
       "2   100     130         3   4.74   0.30  0.25 -0.75  0.109343   0.815159   \n",
       "3   100     100         3   0.15   0.05  1.00  0.50  0.150480  10.368667   \n",
       "4   100      70         5   1.50   0.50  0.50  0.75  0.128541  31.231053   \n",
       "5   100     130         5   4.74   0.25  0.25  0.00  0.144567   4.307074   \n",
       "6   100     100         5   0.15   0.30  1.00  0.50  0.157734  13.998290   \n",
       "7   100      70        10   1.50   0.25  0.50  0.75  0.140284  34.366243   \n",
       "8   100     130        10   4.74   0.20  0.25 -0.50  0.127301   7.031888   \n",
       "9   100     150        10   0.15   0.25  1.00 -0.75  0.110415   2.569900   \n",
       "\n",
       "     MC SABR  \n",
       "0   5.873263  \n",
       "1  32.001474  \n",
       "2   0.824826  \n",
       "3  10.814899  \n",
       "4  32.125685  \n",
       "5   4.254719  \n",
       "6  13.729044  \n",
       "7  33.459083  \n",
       "8   7.021663  \n",
       "9   2.526734  "
      ]
     },
     "execution_count": 10,
     "metadata": {},
     "output_type": "execute_result"
    }
   ],
   "source": [
    "df1"
   ]
  },
  {
   "cell_type": "markdown",
   "metadata": {},
   "source": [
    "### d. Convergence"
   ]
  },
  {
   "cell_type": "markdown",
   "metadata": {},
   "source": [
    "We will look at the case with with high sigma and high correlation which we might expect to be the slowest in convergence. That corresponds to the 3rd row in the table above.\n",
    "\n",
    "To assess the convergence we will collect results from 30 simulations for different number of steps and for several number of paths. The standard deviations and means will be collected in the `table` dataframe."
   ]
  },
  {
   "cell_type": "code",
   "execution_count": 11,
   "metadata": {
    "collapsed": true
   },
   "outputs": [],
   "source": [
    "paths = 10**np.arange(1,5,0.5)\n",
    "steps = 10**np.arange(0.75,3.5,0.25)\n",
    "times = 30"
   ]
  },
  {
   "cell_type": "code",
   "execution_count": 12,
   "metadata": {
    "collapsed": true
   },
   "outputs": [],
   "source": [
    "table = np.full((len(paths),len(steps),2), 0.0)\n",
    "simulations = np.full((len(steps),times), 0.0)"
   ]
  },
  {
   "cell_type": "code",
   "execution_count": 13,
   "metadata": {},
   "outputs": [
    {
     "name": "stdout",
     "output_type": "stream",
     "text": [
      "Wall time: 1h 11min 27s\n"
     ]
    }
   ],
   "source": [
    "%%time\n",
    "spot, strike, T, sigma0, alpha, beta, rho = df1.loc[2][:7]\n",
    "for i, nP in enumerate(paths):\n",
    "    for j, nS in enumerate(steps):\n",
    "        simulations[j] = [MonteCarlo_SABR(spot, strike, T, sigma0, alpha, beta, rho, \n",
    "                                          int(nP), int(nS*T)) for t in range(times)]\n",
    "    table[i] = np.array([simulations.mean(axis=1),simulations.std(axis=1)]).T"
   ]
  },
  {
   "cell_type": "code",
   "execution_count": 14,
   "metadata": {},
   "outputs": [
    {
     "data": {
      "image/png": "[encoded data removed]",
      "text/plain": [
       "<matplotlib.figure.Figure at 0x1a58d5509e8>"
      ]
     },
     "metadata": {},
     "output_type": "display_data"
    }
   ],
   "source": [
    "plt.figure(figsize=(14,6))\n",
    "plt.subplot(1, 2, 1)\n",
    "for i in range(len(paths)):\n",
    "    line1, = plt.semilogx(steps, table[i][:,0], label='#'+str(int(paths[i])))\n",
    "plt.legend(handler_map={line1: HandlerLine2D(numpoints=4)})\n",
    "plt.xlabel('Steps')\n",
    "plt.ylabel('Estimates')\n",
    "plt.grid(True,linestyle='dotted')\n",
    "\n",
    "plt.subplot(1, 2, 2)\n",
    "for i in range(len(paths)):\n",
    "    line1, = plt.semilogx(steps, table[i][:,1], label='#'+str(int(paths[i])))\n",
    "plt.xlabel('Steps')\n",
    "plt.ylabel('Std(Estimates)')\n",
    "plt.grid(True,linestyle='dotted')\n",
    "\n",
    "plt.show()"
   ]
  },
  {
   "cell_type": "markdown",
   "metadata": {},
   "source": [
    "It seems that 10000 simulations (paths) are enough to provide fairly good estimate. Let us look closer at how the mean behaves with varying number of steps. Apart from this we would want to see also that the standard deviation of the estimate goes to zero."
   ]
  },
  {
   "cell_type": "code",
   "execution_count": 15,
   "metadata": {},
   "outputs": [
    {
     "data": {
      "image/png": "[encoded data removed]",
      "text/plain": [
       "<matplotlib.figure.Figure at 0x1a58ec23710>"
      ]
     },
     "metadata": {},
     "output_type": "display_data"
    }
   ],
   "source": [
    "# Plot results\n",
    "\n",
    "plt.figure(figsize=(9,6))\n",
    "\n",
    "plt.semilogx(steps, table[-1][:,0])\n",
    "\n",
    "plt.xlabel('Steps')\n",
    "plt.ylabel('Estimates')\n",
    "plt.title('Convergence in number of steps, 10000 paths')\n",
    "\n",
    "plt.grid(True,linestyle='dotted')\n",
    "\n",
    "plt.show()"
   ]
  },
  {
   "cell_type": "markdown",
   "metadata": {},
   "source": [
    "Time it takes to run a simulation:"
   ]
  },
  {
   "cell_type": "code",
   "execution_count": 16,
   "metadata": {
    "collapsed": true
   },
   "outputs": [],
   "source": [
    "spot, strike, T, sigma0, alpha, beta, rho = df1.loc[2][:7]"
   ]
  },
  {
   "cell_type": "code",
   "execution_count": 17,
   "metadata": {},
   "outputs": [
    {
     "name": "stdout",
     "output_type": "stream",
     "text": [
      "2.19 s ± 308 ms per loop (mean ± std. dev. of 7 runs, 1 loop each)\n"
     ]
    }
   ],
   "source": [
    "%%timeit\n",
    "MonteCarlo_SABR(spot, strike, T, sigma0, alpha, beta, rho, 10000, int(252*T))"
   ]
  },
  {
   "cell_type": "markdown",
   "metadata": {},
   "source": [
    "---\n",
    "\n",
    "## 3. Monte Carlo for Heston"
   ]
  },
  {
   "cell_type": "markdown",
   "metadata": {},
   "source": [
    "### a. \n",
    "\n",
    "Apply Ito's lemma to $\\ln S_t$:\n",
    "\n",
    "\\begin{align*}\n",
    "d\\ln S_t & = \\frac{\\partial \\ln S_t}{\\partial S_t}dS_t + \\frac{1}{2}\\frac{\\partial^2 \\ln S_t}{\\partial S_t^2} \\left(dS_t\\right)^2 \\\\\n",
    "& = \\lambda \\sqrt{\\nu} dW^S - \\frac{1}{2} \\lambda^2 \\nu d t\n",
    "\\end{align*}\n",
    "\n",
    "\n",
    "Euler's scheme is readily available: \n",
    "\n",
    "$$\\ln(S_{t+1}) = \\ln(S_{t}) - \\frac{1}{2}\\lambda^2 \\nu \\Delta t + \\lambda \\sqrt{\\nu} \\sqrt{\\Delta t}\\; N $$"
   ]
  },
  {
   "cell_type": "markdown",
   "metadata": {},
   "source": [
    "### b.\n",
    "#### i. Expectation and variance of $\\nu_{i+1}$\n",
    "\n",
    "Expectation is computed as follows:\n",
    "\n",
    "\\begin{align*}\n",
    "E\\left[x e^{-\\frac{y^2}{2}+yN^{\\nu}}\\right] & = \\int_{-\\infty}^{+\\infty} x e^{-\\frac{y^2}{2}+y \\:z} \\phi(z) dz\\\\\n",
    "& = x e^{-\\frac{y^2}{2}} \\int_{-\\infty}^{+\\infty} e^{y \\:z} \\; \\frac{1}{\\sqrt{2\\pi}} e^{-\\frac{z^2}{2}} dz\\\\\n",
    "& = x e^{-\\frac{y^2}{2}} \\int_{-\\infty}^{+\\infty} \\frac{1}{\\sqrt{2\\pi}} e^{-\\frac{z^2-2yz+y^2-y^2}{2}} dz\\\\\n",
    "& = x e^{-\\frac{y^2}{2}} \\int_{-\\infty}^{+\\infty} \\frac{1}{\\sqrt{2\\pi}} e^{-\\frac{(z-y)^2}{2}}e^{y^2} dz\\\\\n",
    "&= x \\int_{-\\infty}^{+\\infty} \\frac{1}{\\sqrt{2\\pi}} e^{-\\frac{(z-y)^2}{2}} dz\\\\\n",
    "& = x\n",
    "\\end{align*}\n",
    "\n",
    "Alternatively, we may notice that $\\nu_{T_{i+1}}/x$ is lognormally distributed. From the properties of this distribution we find \n",
    "that $E\\left[\\nu_{T_{i+1}}/x\\right]=1$ and therefore $E\\left[\\nu_{T_{i+1}}\\right]=x$\n",
    "\n",
    "To save space, again, we will use the properties of the lognormal distribution to find the variance:\n",
    "\n",
    "\\begin{align*}\n",
    "Var\\left[\\nu_{T_{i+1}}/x\\right] & = \\left(e^{y^2}-1\\right)\\left(e^{-y^2+y^2}\\right)\\\\\n",
    "& = \\left(e^{y^2}-1\\right)\n",
    "\\end{align*}\n",
    "\n",
    "$$Var\\left[\\nu_{T_{i+1}}\\right] = x^2 Var\\left[\\nu_{T_{i+1}}\\right] = x^2 \\left(e^{y^2}-1\\right) $$\n"
   ]
  },
  {
   "cell_type": "markdown",
   "metadata": {},
   "source": [
    "#### ii.\n",
    "\n",
    "Integrate both sides:\n",
    "$$\\nu_t = \\nu_0 + \\int_0^t k\\left(1-\\nu_u\\right)du + \\int_0^t\\epsilon \\sqrt{\\nu_u}dW_u^\\sigma$$\n",
    "\n",
    "Take expectations (by $E(\\cdot)$ I mean $E_t(\\cdot)$, same holds for variance calculations):\n",
    "\\begin{align*}\n",
    "E\\left[\\nu_t\\right] & = E\\left[\\nu_0 + \\int_0^t k\\left(1-\\nu_u\\right)du + \\int_0^t\\epsilon \\sqrt{\\nu_u}dW_u^\\sigma \\right]\\\\\n",
    "& = \\nu_0 + \\int_0^t k\\left(1-E\\left[\\nu_u\\right]\\right)du\n",
    "\\end{align*}\n",
    "\n",
    "Now, set $m(t):=E\\left[\\nu_t\\right]$. Differentiate to obtain:\n",
    "\n",
    "$$m'(t)=k\\left(1-m(t)\\right)$$\n",
    "\n",
    "which coupled with the condition that $m(0)=\\nu_0$ forms an ODE.\n",
    "\n",
    "The solution is as follows:\n",
    "\n",
    "$$\\frac{d m(t)}{d t} = k(1-m(t))$$\n",
    "\n",
    "$$\\frac{1}{1-m(t)}dm(t) = k dt$$\n",
    "\n",
    "$$\\int_0^t\\frac{1}{1-m(u)}dm(u) = \\int_0^t k du$$\n",
    "\n",
    "$$-\\ln\\left(1-m(t)\\right)= kt+c$$\n",
    "\n",
    "The constant is given by the initial condition:\n",
    "$$c = -\\ln\\left(1-\\nu_0\\right)$$\n",
    "which, combined with the last equation above produces the result, which is also the expectation we are after:\n",
    "\n",
    "$$m(t) = e^{-kt}\\nu_0+1-e^{-kt}$$\n",
    "\n",
    "\n",
    "$\\underline{Alternatively}$, we may look at the process $Z_t = \\nu_t e^{kt}$. Applying Ito gives:\n",
    "\n",
    "\\begin{align*}\n",
    "dZ_t & = k e^{kt} \\nu_t + k e^{kt} d\\nu_t \\\\\n",
    "& = k e^{kt} \\nu_t + k e^{kt} dt - k e^{kt} \\nu_t dt + e^{kt} \\epsilon \\sqrt{\\nu_t} dW_t\\\\\n",
    "& = k e^{kt} dt + e^{kt} \\epsilon \\sqrt{\\nu_t} dW_t\n",
    "\\end{align*}\n",
    "\n",
    "Integrate both sides to find $\\nu_t$:\n",
    "\n",
    "$$\\nu_t = e^{-kt} \\nu_0 +1-e^{-kt} + e^{-kt}\\epsilon \\int_0^t e^{ku}\\sqrt{\\nu_u}dW_u$$\n",
    "\n",
    "and we have:\n",
    "\n",
    "$$E\\left[\\nu_t \\right] = e^{-kt} \\nu_0 +1-e^{-kt}$$\n",
    "\n",
    "---\n",
    "\n",
    "For the variance, we remember first that:\n",
    "$$Var\\left[\\nu_t\\right] = E\\left[\\nu_t^2\\right]-E\\left[\\nu_t\\right]^2$$\n",
    "\n",
    "Let us look at the first term. On this line write:\n",
    "\n",
    "$$\\nu_t^2 = \\left\\{e^{-kt} \\nu_0 +1-e^{-kt}\\right\\}^2 + e^{-2kt}\\epsilon^2 \\left\\{\\int_0^t e^{ku}\\sqrt{\\nu_u}dW_u\\right\\}^2$$\n",
    "\n",
    "Taking expectations and introducing it in the variance formula above leaves us with:\n",
    "\n",
    "\n",
    "$$Var\\left[\\nu_t\\right] = e^{-2kt}\\epsilon^2 E\\left[\\left\\{\\int_0^t e^{ku}\\sqrt{\\nu_u}dW_u\\right\\}^2\\right]$$\n",
    "\n",
    "By Itô isometry:\n",
    "\n",
    "\\begin{align*}\n",
    "Var\\left[\\nu_t\\right] & = e^{-2kt}\\epsilon^2 \\int_0^t e^{2ku}E\\left[\\nu_u\\right] du \\\\\n",
    "& = e^{-2kt}\\epsilon^2 \\int_0^t e^{2ku} \\left(e^{-ku} \\nu_0 +1-e^{-ku}\\right) du\\\\\n",
    "& = e^{-2kt}\\epsilon^2 \\left[\\int_0^t e^{2ku} du + \\left(\\nu_0-1\\right)\\int_0^t e^{ku} du \\right]\\\\\n",
    "& = e^{-2kt}\\epsilon^2 \\left[ \\frac{e^{2kt}-1}{2k} + \\left(\\nu_0-1\\right)\\frac{e^{kt}-1}{k}\\right]\\\\\n",
    "& = e^{-2kt}\\epsilon^2 \\left(e^{kt}-1 \\right) \\left[ \\frac{e^{kt}+1}{2k} + \\frac{\\nu_0-1}{k}\\right]\\\\\n",
    "& = e^{-2kt}\\epsilon^2 \\left(e^{kt}-1 \\right) \\left[ \\frac{e^{kt}-1}{2k} + \\frac{\\nu_0}{k}\\right]\\\\\n",
    "& = \\nu_0 \\frac{\\epsilon^2}{k} \\left(e^{-kt}-e^{-2kt} \\right) + \\frac{\\epsilon^2}{2k} e^{-2kt}\\left(e^{-kt}-1 \\right)^2\n",
    "\\end{align*}"
   ]
  },
  {
   "cell_type": "markdown",
   "metadata": {},
   "source": [
    "#### iii. \n",
    "We need to solve:\n",
    "\n",
    "\\begin{equation*}\n",
    "    \\begin{cases}\n",
    "        x = e^{-kt} \\nu_0 +1-e^{-kt}, \\\\\n",
    "        x^2 \\left(e^{y^2}-1\\right) = \\nu_0 \\frac{\\epsilon^2}{k} \\left(e^{-kt}-e^{-2kt} \\right) + \\frac{\\epsilon^2}{2k} e^{-2kt}\\left(e^{-kt}-1 \\right)^2\n",
    "    \\end{cases}\n",
    "\\end{equation*}\n",
    "\n",
    "In a few algebraic steps we obtain:\n",
    "\n",
    "\\begin{equation*}\n",
    "    \\begin{cases}\n",
    "        x = e^{-kt} \\nu_0 +1-e^{-kt}, \\\\\n",
    "        y = \\sqrt{\\ln\\left\\{\\frac{\\nu_0 \\frac{\\epsilon^2}{k} \\left(e^{-kt}-e^{-2kt} \\right) + \\frac{\\epsilon^2}{2k} e^{-2kt}\\left(e^{-kt}-1 \\right)^2}{\\left(e^{-kt} \\nu_0 +1-e^{-kt}\\right)^2}+1 \\right\\}}\n",
    "    \\end{cases}\n",
    "\\end{equation*}\n"
   ]
  },
  {
   "cell_type": "markdown",
   "metadata": {},
   "source": [
    "#### iv. Implementation\n",
    "\n",
    "See point (c)."
   ]
  },
  {
   "cell_type": "markdown",
   "metadata": {},
   "source": [
    "### c. Heston implementation"
   ]
  },
  {
   "cell_type": "code",
   "execution_count": 18,
   "metadata": {},
   "outputs": [
    {
     "data": {
      "text/html": [
       "<div>\n",
       "<style>\n",
       "    .dataframe thead tr:only-child th {\n",
       "        text-align: right;\n",
       "    }\n",
       "\n",
       "    .dataframe thead th {\n",
       "        text-align: left;\n",
       "    }\n",
       "\n",
       "    .dataframe tbody tr th {\n",
       "        vertical-align: top;\n",
       "    }\n",
       "</style>\n",
       "<table border=\"1\" class=\"dataframe\">\n",
       "  <thead>\n",
       "    <tr style=\"text-align: right;\">\n",
       "      <th></th>\n",
       "      <th>Spot</th>\n",
       "      <th>Strike</th>\n",
       "      <th>Maturity</th>\n",
       "      <th>Lambda</th>\n",
       "      <th>Eps</th>\n",
       "      <th>MeanRv</th>\n",
       "      <th>Rho</th>\n",
       "    </tr>\n",
       "  </thead>\n",
       "  <tbody>\n",
       "    <tr>\n",
       "      <th>0</th>\n",
       "      <td>100</td>\n",
       "      <td>100</td>\n",
       "      <td>1</td>\n",
       "      <td>0.15</td>\n",
       "      <td>0.50</td>\n",
       "      <td>0.01</td>\n",
       "      <td>0.00</td>\n",
       "    </tr>\n",
       "    <tr>\n",
       "      <th>1</th>\n",
       "      <td>100</td>\n",
       "      <td>70</td>\n",
       "      <td>3</td>\n",
       "      <td>0.10</td>\n",
       "      <td>0.40</td>\n",
       "      <td>0.15</td>\n",
       "      <td>-0.50</td>\n",
       "    </tr>\n",
       "    <tr>\n",
       "      <th>2</th>\n",
       "      <td>100</td>\n",
       "      <td>130</td>\n",
       "      <td>3</td>\n",
       "      <td>0.20</td>\n",
       "      <td>0.50</td>\n",
       "      <td>0.25</td>\n",
       "      <td>-0.75</td>\n",
       "    </tr>\n",
       "    <tr>\n",
       "      <th>3</th>\n",
       "      <td>100</td>\n",
       "      <td>100</td>\n",
       "      <td>3</td>\n",
       "      <td>0.25</td>\n",
       "      <td>0.10</td>\n",
       "      <td>0.05</td>\n",
       "      <td>0.50</td>\n",
       "    </tr>\n",
       "    <tr>\n",
       "      <th>4</th>\n",
       "      <td>100</td>\n",
       "      <td>70</td>\n",
       "      <td>5</td>\n",
       "      <td>0.15</td>\n",
       "      <td>0.75</td>\n",
       "      <td>0.50</td>\n",
       "      <td>0.75</td>\n",
       "    </tr>\n",
       "    <tr>\n",
       "      <th>5</th>\n",
       "      <td>100</td>\n",
       "      <td>130</td>\n",
       "      <td>5</td>\n",
       "      <td>0.10</td>\n",
       "      <td>0.50</td>\n",
       "      <td>0.75</td>\n",
       "      <td>0.00</td>\n",
       "    </tr>\n",
       "    <tr>\n",
       "      <th>6</th>\n",
       "      <td>100</td>\n",
       "      <td>100</td>\n",
       "      <td>5</td>\n",
       "      <td>0.25</td>\n",
       "      <td>0.60</td>\n",
       "      <td>1.00</td>\n",
       "      <td>0.50</td>\n",
       "    </tr>\n",
       "    <tr>\n",
       "      <th>7</th>\n",
       "      <td>100</td>\n",
       "      <td>70</td>\n",
       "      <td>10</td>\n",
       "      <td>0.20</td>\n",
       "      <td>0.50</td>\n",
       "      <td>0.15</td>\n",
       "      <td>0.75</td>\n",
       "    </tr>\n",
       "    <tr>\n",
       "      <th>8</th>\n",
       "      <td>100</td>\n",
       "      <td>130</td>\n",
       "      <td>10</td>\n",
       "      <td>0.15</td>\n",
       "      <td>0.40</td>\n",
       "      <td>0.10</td>\n",
       "      <td>-0.50</td>\n",
       "    </tr>\n",
       "    <tr>\n",
       "      <th>9</th>\n",
       "      <td>100</td>\n",
       "      <td>150</td>\n",
       "      <td>10</td>\n",
       "      <td>0.25</td>\n",
       "      <td>0.50</td>\n",
       "      <td>0.25</td>\n",
       "      <td>-0.75</td>\n",
       "    </tr>\n",
       "  </tbody>\n",
       "</table>\n",
       "</div>"
      ],
      "text/plain": [
       "   Spot  Strike  Maturity  Lambda   Eps  MeanRv   Rho\n",
       "0   100     100         1    0.15  0.50    0.01  0.00\n",
       "1   100      70         3    0.10  0.40    0.15 -0.50\n",
       "2   100     130         3    0.20  0.50    0.25 -0.75\n",
       "3   100     100         3    0.25  0.10    0.05  0.50\n",
       "4   100      70         5    0.15  0.75    0.50  0.75\n",
       "5   100     130         5    0.10  0.50    0.75  0.00\n",
       "6   100     100         5    0.25  0.60    1.00  0.50\n",
       "7   100      70        10    0.20  0.50    0.15  0.75\n",
       "8   100     130        10    0.15  0.40    0.10 -0.50\n",
       "9   100     150        10    0.25  0.50    0.25 -0.75"
      ]
     },
     "execution_count": 18,
     "metadata": {},
     "output_type": "execute_result"
    }
   ],
   "source": [
    "# Read the data\n",
    "df2 = pd.DataFrame(OrderedDict({'Spot' : [100]*10,\n",
    "                                 'Strike' : [100, 70, 130]*3 + [150],\n",
    "                                 'Maturity' : [1, 3, 3, 3, 5, 5, 5, 10, 10, 10],\n",
    "                                 'Lambda' : [0.15, 0.1, 0.2, 0.25, 0.15, 0.1, 0.25, 0.2, 0.15, 0.25],      \n",
    "                                 'Eps' : [0.5, 0.4, 0.5, 0.1, 0.75, 0.5, 0.6, 0.5, 0.4, 0.5],\n",
    "                                 'MeanRv' : [0.01, 0.15, 0.25, 0.05, 0.5, 0.75, 1, 0.15, 0.1, 0.25],\n",
    "                                 'Rho' : [0, -0.5, -0.75, 0.5, 0.75, 0, 0.5, 0.75, -0.5, -0.75]\n",
    "                                }))\n",
    "df2"
   ]
  },
  {
   "cell_type": "markdown",
   "metadata": {},
   "source": [
    "The Heston Monte Carlo is implemented in the following function."
   ]
  },
  {
   "cell_type": "code",
   "execution_count": 19,
   "metadata": {},
   "outputs": [],
   "source": [
    "def MonteCarlo_Heston(spot, strike, T, lmbda, eps, k, rho, nPaths, nSteps):\n",
    "    t = dt = T / nSteps\n",
    "    logS = np.full(nPaths, np.log(spot))\n",
    "    nu = np.ones(nPaths) # nu_0 = 1\n",
    "    \n",
    "    for i in range(nSteps):\n",
    "        N1, N2 = np.random.normal(size=(2,nPaths))\n",
    "        N2 = rho * N1 + np.sqrt(1-rho**2) * N2\n",
    "        logS = logS - 0.5*lmbda**2*nu*dt + lmbda*np.sqrt(nu*dt) * N1\n",
    "        x = np.exp(-k*t)*(nu-1)+1\n",
    "        y = np.sqrt(np.log((nu*eps**2*(np.exp(-k*t)-np.exp(-2*k*t))/k\n",
    "                   + eps**2*np.exp(-2*k*t)*(np.exp(-k*t)-1)**2/(2*k))/x**2 +1))\n",
    "        nu = x*np.exp(-0.5*y**2 + y*N2)\n",
    "\n",
    "    return np.mean(np.maximum(np.exp(logS) - strike, 0))"
   ]
  },
  {
   "cell_type": "markdown",
   "metadata": {},
   "source": [
    "Run Monte Carlo over all our data points and store the results:"
   ]
  },
  {
   "cell_type": "code",
   "execution_count": 20,
   "metadata": {},
   "outputs": [
    {
     "name": "stdout",
     "output_type": "stream",
     "text": [
      "Wall time: 31 s\n"
     ]
    }
   ],
   "source": [
    "%%time\n",
    "df2['MC Heston'] = 0.0\n",
    "for i in range(len(df2)):\n",
    "    spot, strike, T, lmbda, eps, k, rho = df2.loc[i][:7]\n",
    "    df2.loc[i,'MC Heston'] = MonteCarlo_Heston(spot, strike, T, lmbda, eps, k, rho, 10000, int(252*T))"
   ]
  },
  {
   "cell_type": "code",
   "execution_count": 21,
   "metadata": {
    "scrolled": false
   },
   "outputs": [
    {
     "data": {
      "text/html": [
       "<div>\n",
       "<style>\n",
       "    .dataframe thead tr:only-child th {\n",
       "        text-align: right;\n",
       "    }\n",
       "\n",
       "    .dataframe thead th {\n",
       "        text-align: left;\n",
       "    }\n",
       "\n",
       "    .dataframe tbody tr th {\n",
       "        vertical-align: top;\n",
       "    }\n",
       "</style>\n",
       "<table border=\"1\" class=\"dataframe\">\n",
       "  <thead>\n",
       "    <tr style=\"text-align: right;\">\n",
       "      <th></th>\n",
       "      <th>Spot</th>\n",
       "      <th>Strike</th>\n",
       "      <th>Maturity</th>\n",
       "      <th>Lambda</th>\n",
       "      <th>Eps</th>\n",
       "      <th>MeanRv</th>\n",
       "      <th>Rho</th>\n",
       "      <th>MC Heston</th>\n",
       "    </tr>\n",
       "  </thead>\n",
       "  <tbody>\n",
       "    <tr>\n",
       "      <th>0</th>\n",
       "      <td>100</td>\n",
       "      <td>100</td>\n",
       "      <td>1</td>\n",
       "      <td>0.15</td>\n",
       "      <td>0.50</td>\n",
       "      <td>0.01</td>\n",
       "      <td>0.00</td>\n",
       "      <td>5.923529</td>\n",
       "    </tr>\n",
       "    <tr>\n",
       "      <th>1</th>\n",
       "      <td>100</td>\n",
       "      <td>70</td>\n",
       "      <td>3</td>\n",
       "      <td>0.10</td>\n",
       "      <td>0.40</td>\n",
       "      <td>0.15</td>\n",
       "      <td>-0.50</td>\n",
       "      <td>30.156584</td>\n",
       "    </tr>\n",
       "    <tr>\n",
       "      <th>2</th>\n",
       "      <td>100</td>\n",
       "      <td>130</td>\n",
       "      <td>3</td>\n",
       "      <td>0.20</td>\n",
       "      <td>0.50</td>\n",
       "      <td>0.25</td>\n",
       "      <td>-0.75</td>\n",
       "      <td>3.616389</td>\n",
       "    </tr>\n",
       "    <tr>\n",
       "      <th>3</th>\n",
       "      <td>100</td>\n",
       "      <td>100</td>\n",
       "      <td>3</td>\n",
       "      <td>0.25</td>\n",
       "      <td>0.10</td>\n",
       "      <td>0.05</td>\n",
       "      <td>0.50</td>\n",
       "      <td>17.828250</td>\n",
       "    </tr>\n",
       "    <tr>\n",
       "      <th>4</th>\n",
       "      <td>100</td>\n",
       "      <td>70</td>\n",
       "      <td>5</td>\n",
       "      <td>0.15</td>\n",
       "      <td>0.75</td>\n",
       "      <td>0.50</td>\n",
       "      <td>0.75</td>\n",
       "      <td>30.360952</td>\n",
       "    </tr>\n",
       "    <tr>\n",
       "      <th>5</th>\n",
       "      <td>100</td>\n",
       "      <td>130</td>\n",
       "      <td>5</td>\n",
       "      <td>0.10</td>\n",
       "      <td>0.50</td>\n",
       "      <td>0.75</td>\n",
       "      <td>0.00</td>\n",
       "      <td>1.488459</td>\n",
       "    </tr>\n",
       "    <tr>\n",
       "      <th>6</th>\n",
       "      <td>100</td>\n",
       "      <td>100</td>\n",
       "      <td>5</td>\n",
       "      <td>0.25</td>\n",
       "      <td>0.60</td>\n",
       "      <td>1.00</td>\n",
       "      <td>0.50</td>\n",
       "      <td>23.815755</td>\n",
       "    </tr>\n",
       "    <tr>\n",
       "      <th>7</th>\n",
       "      <td>100</td>\n",
       "      <td>70</td>\n",
       "      <td>10</td>\n",
       "      <td>0.20</td>\n",
       "      <td>0.50</td>\n",
       "      <td>0.15</td>\n",
       "      <td>0.75</td>\n",
       "      <td>35.576393</td>\n",
       "    </tr>\n",
       "    <tr>\n",
       "      <th>8</th>\n",
       "      <td>100</td>\n",
       "      <td>130</td>\n",
       "      <td>10</td>\n",
       "      <td>0.15</td>\n",
       "      <td>0.40</td>\n",
       "      <td>0.10</td>\n",
       "      <td>-0.50</td>\n",
       "      <td>7.592936</td>\n",
       "    </tr>\n",
       "    <tr>\n",
       "      <th>9</th>\n",
       "      <td>100</td>\n",
       "      <td>150</td>\n",
       "      <td>10</td>\n",
       "      <td>0.25</td>\n",
       "      <td>0.50</td>\n",
       "      <td>0.25</td>\n",
       "      <td>-0.75</td>\n",
       "      <td>12.365244</td>\n",
       "    </tr>\n",
       "  </tbody>\n",
       "</table>\n",
       "</div>"
      ],
      "text/plain": [
       "   Spot  Strike  Maturity  Lambda   Eps  MeanRv   Rho  MC Heston\n",
       "0   100     100         1    0.15  0.50    0.01  0.00   5.923529\n",
       "1   100      70         3    0.10  0.40    0.15 -0.50  30.156584\n",
       "2   100     130         3    0.20  0.50    0.25 -0.75   3.616389\n",
       "3   100     100         3    0.25  0.10    0.05  0.50  17.828250\n",
       "4   100      70         5    0.15  0.75    0.50  0.75  30.360952\n",
       "5   100     130         5    0.10  0.50    0.75  0.00   1.488459\n",
       "6   100     100         5    0.25  0.60    1.00  0.50  23.815755\n",
       "7   100      70        10    0.20  0.50    0.15  0.75  35.576393\n",
       "8   100     130        10    0.15  0.40    0.10 -0.50   7.592936\n",
       "9   100     150        10    0.25  0.50    0.25 -0.75  12.365244"
      ]
     },
     "execution_count": 21,
     "metadata": {},
     "output_type": "execute_result"
    }
   ],
   "source": [
    "df2"
   ]
  },
  {
   "cell_type": "markdown",
   "metadata": {},
   "source": [
    "The results are very close to the benchmarks.\n",
    "\n",
    "To assess the convergence, again, we will collect results from 30 simulations for different number of steps and for several number of paths. The standard deviations and means will be collected in the `table` dataframe.\n",
    "\n",
    "For our analysis, we will pick a case with high lambda, and high correlation, for instance the last row from our dataframe."
   ]
  },
  {
   "cell_type": "code",
   "execution_count": 22,
   "metadata": {
    "collapsed": true
   },
   "outputs": [],
   "source": [
    "paths = 10**np.arange(1,5,0.5)\n",
    "steps = 10**np.arange(0.75,3.5,0.25)\n",
    "times = 30"
   ]
  },
  {
   "cell_type": "code",
   "execution_count": 23,
   "metadata": {
    "collapsed": true
   },
   "outputs": [],
   "source": [
    "table = np.full((len(paths),len(steps),2), 0.0)\n",
    "simulations = np.full((len(steps),times), 0.0)"
   ]
  },
  {
   "cell_type": "code",
   "execution_count": 24,
   "metadata": {},
   "outputs": [
    {
     "name": "stdout",
     "output_type": "stream",
     "text": [
      "Wall time: 3h 34min 59s\n"
     ]
    }
   ],
   "source": [
    "%%time\n",
    "spot, strike, T, lmbda, eps, k, rho = df2.loc[9][:7]\n",
    "for i, nP in enumerate(paths):\n",
    "    for j, nS in enumerate(steps):\n",
    "        simulations[j] = [MonteCarlo_Heston(spot, strike, T, lmbda, eps, k, rho, \n",
    "                                            int(nP), int(nS*T)) for t in range(times)]\n",
    "    table[i] = np.array([simulations.mean(axis=1), simulations.std(axis=1)]).T"
   ]
  },
  {
   "cell_type": "code",
   "execution_count": 25,
   "metadata": {},
   "outputs": [
    {
     "data": {
      "image/png": "[encoded data removed]",
      "text/plain": [
       "<matplotlib.figure.Figure at 0x1a58ebae8d0>"
      ]
     },
     "metadata": {},
     "output_type": "display_data"
    }
   ],
   "source": [
    "plt.figure(figsize=(14,6))\n",
    "plt.subplot(1, 2, 1)\n",
    "for i in range(len(paths)):\n",
    "    line1, = plt.semilogx(steps, table[i][:,0], label='#'+str(int(paths[i])))\n",
    "plt.legend(handler_map={line1: HandlerLine2D(numpoints=4)})\n",
    "plt.xlabel('Steps')\n",
    "plt.ylabel('Estimates')\n",
    "plt.grid(True,linestyle='dotted')\n",
    "\n",
    "plt.subplot(1, 2, 2)\n",
    "for i in range(len(paths)):\n",
    "    line1, = plt.semilogx(steps, table[i][:,1], label='#'+str(int(paths[i])))\n",
    "plt.xlabel('Steps')\n",
    "plt.ylabel('Std(Estimates)')\n",
    "plt.grid(True,linestyle='dotted')\n",
    "\n",
    "plt.show()"
   ]
  },
  {
   "cell_type": "markdown",
   "metadata": {},
   "source": [
    "Again, it appears that 10000 simulations (paths) are enough to provide fairly good estimates. From the next plot, we see also that 252 is also a choice for the number of steps."
   ]
  },
  {
   "cell_type": "code",
   "execution_count": 26,
   "metadata": {},
   "outputs": [
    {
     "data": {
      "image/png": "[encoded data removed]",
      "text/plain": [
       "<matplotlib.figure.Figure at 0x1a58f1c07f0>"
      ]
     },
     "metadata": {},
     "output_type": "display_data"
    }
   ],
   "source": [
    "# Plot results\n",
    "\n",
    "plt.figure(figsize=(9,6))\n",
    "\n",
    "plt.semilogx(steps, table[-1][:,0])\n",
    "\n",
    "plt.xlabel('Steps')\n",
    "plt.ylabel('Estimates')\n",
    "plt.title('Convergence in number of steps, 10000 paths')\n",
    "\n",
    "plt.grid(True,linestyle='dotted')\n",
    "\n",
    "plt.show()"
   ]
  },
  {
   "cell_type": "markdown",
   "metadata": {},
   "source": [
    "Time it takes to run a simulation:"
   ]
  },
  {
   "cell_type": "code",
   "execution_count": 27,
   "metadata": {
    "collapsed": true
   },
   "outputs": [],
   "source": [
    "spot, strike, T, lmbda, eps, k, rho = df2.loc[9][:7]"
   ]
  },
  {
   "cell_type": "code",
   "execution_count": 28,
   "metadata": {},
   "outputs": [
    {
     "name": "stdout",
     "output_type": "stream",
     "text": [
      "5.78 s ± 227 ms per loop (mean ± std. dev. of 7 runs, 1 loop each)\n"
     ]
    }
   ],
   "source": [
    "%%timeit\n",
    "# 10000 paths 2520 steps\n",
    "MonteCarlo_Heston(spot, strike, T, lmbda, eps, k, rho, 10000, int(252*T))"
   ]
  },
  {
   "cell_type": "markdown",
   "metadata": {},
   "source": [
    "---\n",
    "\n",
    "## 4. \n",
    "\n",
    "### a. "
   ]
  },
  {
   "cell_type": "code",
   "execution_count": 29,
   "metadata": {
    "collapsed": true
   },
   "outputs": [],
   "source": [
    "import scipy\n",
    "from scipy.optimize import minimize"
   ]
  },
  {
   "cell_type": "markdown",
   "metadata": {},
   "source": [
    "For calibration we need a cost function. We choose to implement the squared error cost function:"
   ]
  },
  {
   "cell_type": "code",
   "execution_count": 30,
   "metadata": {
    "collapsed": true
   },
   "outputs": [],
   "source": [
    "market = [[70, 0.17],\n",
    "          [100,0.15],\n",
    "          [130,0.155]]"
   ]
  },
  {
   "cell_type": "code",
   "execution_count": 31,
   "metadata": {},
   "outputs": [],
   "source": [
    "def cost_SABR(x):\n",
    "    sqrError = 0.0\n",
    "    for mk in market:\n",
    "        sqrError += (sigma(100, mk[0], 3, x[0], x[1], 1, x[2])-mk[1])**2\n",
    "    return sqrError"
   ]
  },
  {
   "cell_type": "code",
   "execution_count": 32,
   "metadata": {
    "scrolled": true
   },
   "outputs": [
    {
     "data": {
      "text/plain": [
       " final_simplex: (array([[ 0.1461293 ,  0.34886076, -0.09292217],\n",
       "       [ 0.14612755,  0.34888214, -0.09286287],\n",
       "       [ 0.14613046,  0.34881715, -0.09291876],\n",
       "       [ 0.14613727,  0.348765  , -0.09295047]]), array([  4.15804569e-12,   7.59232139e-12,   1.51476974e-11,\n",
       "         2.01701207e-11]))\n",
       "           fun: 4.1580456944742974e-12\n",
       "       message: 'Optimization terminated successfully.'\n",
       "          nfev: 103\n",
       "           nit: 57\n",
       "        status: 0\n",
       "       success: True\n",
       "             x: array([ 0.1461293 ,  0.34886076, -0.09292217])"
      ]
     },
     "execution_count": 32,
     "metadata": {},
     "output_type": "execute_result"
    }
   ],
   "source": [
    "# Minimize the cost function with 'Nelder-Mead'\n",
    "res = minimize(cost_SABR, [0.15,0.3,0.3], method='Nelder-Mead'); res"
   ]
  },
  {
   "cell_type": "markdown",
   "metadata": {},
   "source": [
    "`'Optimization terminated successfully.'` \n",
    "\n",
    "The calibrated parameters are: "
   ]
  },
  {
   "cell_type": "code",
   "execution_count": 33,
   "metadata": {
    "scrolled": true
   },
   "outputs": [
    {
     "data": {
      "text/plain": [
       "array([ 0.1461293 ,  0.34886076, -0.09292217])"
      ]
     },
     "execution_count": 33,
     "metadata": {},
     "output_type": "execute_result"
    }
   ],
   "source": [
    "x = res.x; x"
   ]
  },
  {
   "cell_type": "code",
   "execution_count": 34,
   "metadata": {},
   "outputs": [
    {
     "name": "stdout",
     "output_type": "stream",
     "text": [
      "K = 70 :\t 0.170001134305\n",
      "K = 100 :\t 0.149998674154\n",
      "K = 130 :\t 0.15499894476\n"
     ]
    }
   ],
   "source": [
    "# Check the volatilites\n",
    "for K in [70,100,130]:\n",
    "    print('K =', K,':\\t',sigma(100, K, 3, x[0], x[1], 1, x[2]))"
   ]
  },
  {
   "cell_type": "markdown",
   "metadata": {},
   "source": [
    "The smile produced by this calibrated model is depicted below:"
   ]
  },
  {
   "cell_type": "code",
   "execution_count": 35,
   "metadata": {},
   "outputs": [],
   "source": [
    "strikes = np.arange(50,155,5)\n",
    "vols = [sigma(100, strike, 3, x[0], x[1], 1, x[2]) for strike in strikes]"
   ]
  },
  {
   "cell_type": "code",
   "execution_count": 36,
   "metadata": {},
   "outputs": [
    {
     "data": {
      "image/png": "[encoded data removed]",
      "text/plain": [
       "<matplotlib.figure.Figure at 0x1a58f52a0b8>"
      ]
     },
     "metadata": {},
     "output_type": "display_data"
    }
   ],
   "source": [
    "# Plot results\n",
    "plt.figure(figsize=(9,6))\n",
    "\n",
    "line1, = plt.plot(strikes, vols, label='SABR')\n",
    "\n",
    "plt.xlabel('Strike')\n",
    "plt.ylabel('Volatility')\n",
    "plt.title('Smile generated by the calibrated model')\n",
    "\n",
    "plt.legend(handler_map={line1: HandlerLine2D(numpoints=4)})\n",
    "plt.grid(True,linestyle='dotted')\n",
    "\n",
    "plt.show()"
   ]
  },
  {
   "cell_type": "markdown",
   "metadata": {},
   "source": [
    "### b. "
   ]
  },
  {
   "cell_type": "markdown",
   "metadata": {},
   "source": [
    "This exercise is conducted in 2 steps:\n",
    "\n",
    "1. Calibrate $\\lambda$ ATM so as to produce the market price\n",
    "\n",
    "2. Fix $\\lambda$, find $\\epsilon$ and $\\rho$ to fit the prices of 2 other options\n",
    "\n",
    "Since we have a Monte Carlo implementation of the Heston model, we will use a global optimization algorithm.\n",
    "This is quiet slow. Local averaging and interpolation could be implemented to speed up things, or even better: Finate Difference Methods.\n",
    "\n",
    "Calibration is run twice, first with a lower tolerance, then with a higher one, more simulations and with the optimization outcome as the new input."
   ]
  },
  {
   "cell_type": "code",
   "execution_count": 37,
   "metadata": {
    "collapsed": true
   },
   "outputs": [],
   "source": [
    "# Fix some arbitrary, but realistic epsilon and rho\n",
    "func = lambda x: (MonteCarlo_Heston(100, 100, 3, x[0], 0.5, 0.1, 0.3, 3000, int(100*T)) \n",
    "                  - BlackScholes(sigma=0.15, T=3))**2"
   ]
  },
  {
   "cell_type": "code",
   "execution_count": 39,
   "metadata": {
    "scrolled": true
   },
   "outputs": [
    {
     "data": {
      "text/plain": [
       " final_simplex: (array([[ 0.15218979],\n",
       "       [ 0.15218979]]), array([  1.32915253e-07,   1.38274599e-02]))\n",
       "           fun: 1.3291525264856536e-07\n",
       "       message: 'Maximum number of function evaluations has been exceeded.'\n",
       "          nfev: 200\n",
       "           nit: 73\n",
       "        status: 1\n",
       "       success: False\n",
       "             x: array([ 0.15218979])"
      ]
     },
     "execution_count": 39,
     "metadata": {},
     "output_type": "execute_result"
    }
   ],
   "source": [
    "# Find lambda\n",
    "res = minimize(func, [0.14581058], method='Nelder-Mead', tol=1e-7); res"
   ]
  },
  {
   "cell_type": "code",
   "execution_count": 41,
   "metadata": {},
   "outputs": [
    {
     "data": {
      "text/plain": [
       "0.005483007390359681"
      ]
     },
     "execution_count": 41,
     "metadata": {},
     "output_type": "execute_result"
    }
   ],
   "source": [
    "lmbda = res.x[0]\n",
    "func([lmbda])"
   ]
  },
  {
   "cell_type": "markdown",
   "metadata": {},
   "source": [
    "Now that we have calibrated the $\\lambda$ we will attempt to fit also the other parameters: $\\epsilon$ and $\\rho$:"
   ]
  },
  {
   "cell_type": "code",
   "execution_count": 52,
   "metadata": {
    "collapsed": true
   },
   "outputs": [],
   "source": [
    "def cost_Heston(x, k=0.1):\n",
    "    sqrError = 0.0\n",
    "    for mk in market:\n",
    "        sqrError += (MonteCarlo_Heston(100, mk[0], 3, lmbda, x[0], k, x[1], 5000, int(100*T))\n",
    "                     - BlackScholes(S=100, K=mk[0], sigma=mk[1], T=3))**2\n",
    "    return sqrError"
   ]
  },
  {
   "cell_type": "code",
   "execution_count": 53,
   "metadata": {
    "scrolled": true
   },
   "outputs": [
    {
     "data": {
      "text/plain": [
       " final_simplex: (array([[ 0.60045186,  0.30257792],\n",
       "       [ 0.60045186,  0.30257792],\n",
       "       [ 0.60045186,  0.30257792]]), array([ 0.06729965,  0.37904545,  0.41726584]))\n",
       "           fun: 0.067299651079296655\n",
       "       message: 'Maximum number of function evaluations has been exceeded.'\n",
       "          nfev: 400\n",
       "           nit: 152\n",
       "        status: 1\n",
       "       success: False\n",
       "             x: array([ 0.60045186,  0.30257792])"
      ]
     },
     "execution_count": 53,
     "metadata": {},
     "output_type": "execute_result"
    }
   ],
   "source": [
    "# Minimize the cost function with 'Nelder-Mead'\n",
    "res = minimize(cost_Heston, [ 0.57203624,  0.30248391], method='Nelder-Mead', tol=1e-4); res"
   ]
  },
  {
   "cell_type": "code",
   "execution_count": 54,
   "metadata": {},
   "outputs": [
    {
     "data": {
      "text/plain": [
       "0.68679929817808605"
      ]
     },
     "execution_count": 54,
     "metadata": {},
     "output_type": "execute_result"
    }
   ],
   "source": [
    "x = res.x\n",
    "cost_Heston(x)"
   ]
  },
  {
   "cell_type": "code",
   "execution_count": null,
   "metadata": {
    "collapsed": true
   },
   "outputs": [],
   "source": [
    "# Implied Volatility\n",
    "def impliedVol(strike, price):\n",
    "    return scipy.optimize.bisect(lambda x: BlackScholes(sigma = x, K = strike, T=3) - price, a = 1e-16, b = 20)"
   ]
  },
  {
   "cell_type": "code",
   "execution_count": null,
   "metadata": {
    "collapsed": true
   },
   "outputs": [],
   "source": [
    "vols = [impliedVol(strike, MonteCarlo_Heston(100, strike, 3, lmbda, x[0], 0.1, x[1],\n",
    "                                             100000, int(252*T))) for strike in strikes]"
   ]
  },
  {
   "cell_type": "code",
   "execution_count": null,
   "metadata": {},
   "outputs": [],
   "source": [
    "# Plot results\n",
    "plt.figure(figsize=(9,6))\n",
    "\n",
    "line1, = plt.plot(strikes, vols, label='Heston')\n",
    "\n",
    "plt.xlabel('Strike')\n",
    "plt.ylabel('Volatility')\n",
    "plt.title('')\n",
    "\n",
    "plt.legend(handler_map={line1: HandlerLine2D(numpoints=4)})\n",
    "plt.grid(True,linestyle='dotted')\n",
    "\n",
    "plt.show()"
   ]
  },
  {
   "cell_type": "markdown",
   "metadata": {},
   "source": [
    "Further analysis skipped due to the computational hurdle.\n",
    "\n",
    "Finate Difference Methods should be used."
   ]
  },
  {
   "cell_type": "markdown",
   "metadata": {},
   "source": [
    "---\n",
    "\n",
    "## 5.\n",
    "\n",
    "Essentially identically as above."
   ]
  },
  {
   "cell_type": "markdown",
   "metadata": {},
   "source": [
    "---\n",
    "## 6."
   ]
  },
  {
   "cell_type": "code",
   "execution_count": 55,
   "metadata": {
    "collapsed": true
   },
   "outputs": [],
   "source": [
    "# Bachelier's Formula\n",
    "def Bachelier(S = 100, K = 100, sigma = 10, T = 10):\n",
    "    d = (S - K) / (sigma * np.sqrt(T))\n",
    "    return (S - K) * norm.cdf(d) + sigma * np.sqrt(T) * norm.pdf(d)"
   ]
  },
  {
   "cell_type": "code",
   "execution_count": 56,
   "metadata": {
    "collapsed": true
   },
   "outputs": [],
   "source": [
    "# Implied Volatility\n",
    "def impliedVol(strike, price):\n",
    "    return scipy.optimize.brentq(lambda x: BlackScholes(sigma = x, K = strike) - price, a = 1e-10, b = 10)"
   ]
  },
  {
   "cell_type": "code",
   "execution_count": 57,
   "metadata": {
    "collapsed": true
   },
   "outputs": [],
   "source": [
    "strikes = np.arange(20,200)\n",
    "iVols = [impliedVol(strike = K, price = Bachelier(K = K)) for K in strikes]"
   ]
  },
  {
   "cell_type": "code",
   "execution_count": 58,
   "metadata": {},
   "outputs": [
    {
     "data": {
      "image/png": "[encoded data removed]",
      "text/plain": [
       "<matplotlib.figure.Figure at 0x1a58f504668>"
      ]
     },
     "metadata": {},
     "output_type": "display_data"
    }
   ],
   "source": [
    "plt.figure(figsize=(9,6))\n",
    "\n",
    "line1, = plt.plot(strikes, iVols)\n",
    "\n",
    "plt.xlabel('Strike')\n",
    "plt.ylabel('Implied Volatility')\n",
    "plt.title('Implied Volatility across strikes, Bachelier\\'s Model')\n",
    "\n",
    "plt.legend(handler_map={line1: HandlerLine2D(numpoints=4)})\n",
    "plt.grid(True,linestyle='dotted')\n",
    "\n",
    "plt.show()"
   ]
  },
  {
   "cell_type": "markdown",
   "metadata": {},
   "source": [
    "### a."
   ]
  },
  {
   "cell_type": "code",
   "execution_count": 59,
   "metadata": {},
   "outputs": [],
   "source": [
    "# Store Bachelier results\n",
    "market = np.array([strikes, iVols]).T"
   ]
  },
  {
   "cell_type": "code",
   "execution_count": 60,
   "metadata": {
    "collapsed": true
   },
   "outputs": [],
   "source": [
    "def cost_SABR(x):\n",
    "    sqrError = 0.0\n",
    "    for mk in market:\n",
    "        sqrError += (sigma(100, mk[0], 10, x[0], x[1], 1, x[2])-mk[1])**2\n",
    "    return sqrError"
   ]
  },
  {
   "cell_type": "code",
   "execution_count": 61,
   "metadata": {
    "scrolled": true
   },
   "outputs": [
    {
     "data": {
      "text/plain": [
       " final_simplex: (array([[ 0.45566332,  0.90167519, -0.61271106],\n",
       "       [ 0.45566224,  0.90173744, -0.6127148 ],\n",
       "       [ 0.45568561,  0.90176905, -0.61271205],\n",
       "       [ 0.45570487,  0.90176714, -0.61271241]]), array([ 0.04590035,  0.04590035,  0.04590035,  0.04590035]))\n",
       "           fun: 0.045900345303605587\n",
       "       message: 'Optimization terminated successfully.'\n",
       "          nfev: 242\n",
       "           nit: 136\n",
       "        status: 0\n",
       "       success: True\n",
       "             x: array([ 0.45566332,  0.90167519, -0.61271106])"
      ]
     },
     "execution_count": 61,
     "metadata": {},
     "output_type": "execute_result"
    }
   ],
   "source": [
    "# Minimize the cost function with 'Nelder-Mead'\n",
    "res = minimize(cost_SABR, [0.15,0.3,0.3], method='Nelder-Mead'); res"
   ]
  },
  {
   "cell_type": "markdown",
   "metadata": {},
   "source": [
    "`'Optimization terminated successfully.'` \n",
    "\n",
    "The calibrated parameters are: "
   ]
  },
  {
   "cell_type": "code",
   "execution_count": 62,
   "metadata": {
    "scrolled": true
   },
   "outputs": [
    {
     "data": {
      "text/plain": [
       "array([ 0.45566332,  0.90167519, -0.61271106])"
      ]
     },
     "execution_count": 62,
     "metadata": {},
     "output_type": "execute_result"
    }
   ],
   "source": [
    "x = res.x; x"
   ]
  },
  {
   "cell_type": "code",
   "execution_count": 63,
   "metadata": {},
   "outputs": [
    {
     "data": {
      "image/png": "[encoded data removed]",
      "text/plain": [
       "<matplotlib.figure.Figure at 0x1a58f17d048>"
      ]
     },
     "metadata": {},
     "output_type": "display_data"
    }
   ],
   "source": [
    "# Plot results\n",
    "plt.figure(figsize=(9,6))\n",
    "\n",
    "line1, = plt.plot(strikes, iVols, label='Bachelier')\n",
    "line2, = plt.plot(strikes, [sigma(100, strike, 10, x[0], x[1], 1, x[2]) \n",
    "                            for strike in strikes], label='SABR')\n",
    "\n",
    "plt.xlabel('Strike')\n",
    "plt.ylabel('Implied Volatility')\n",
    "plt.title('Implied Volatility across strikes, Bachelier\\'s Model')\n",
    "\n",
    "plt.legend(handler_map={line1: HandlerLine2D(numpoints=4)})\n",
    "plt.grid(True,linestyle='dotted')\n",
    "\n",
    "plt.show()"
   ]
  },
  {
   "cell_type": "markdown",
   "metadata": {},
   "source": [
    "The fit is not really perfect. SABR seems to display more convexity than Bachelier."
   ]
  },
  {
   "cell_type": "markdown",
   "metadata": {},
   "source": [
    "### b."
   ]
  },
  {
   "cell_type": "code",
   "execution_count": 64,
   "metadata": {
    "collapsed": true
   },
   "outputs": [],
   "source": [
    "def cost_SABR(x):\n",
    "    sqrError = 0.0\n",
    "    for mk in market:\n",
    "        sqrError += (sigma(100, mk[0], 10, x[0], x[1], x[2], 0)-mk[1])**2\n",
    "    return sqrError"
   ]
  },
  {
   "cell_type": "code",
   "execution_count": 65,
   "metadata": {
    "scrolled": true
   },
   "outputs": [
    {
     "data": {
      "text/plain": [
       " final_simplex: (array([[  1.99200830e+01,   2.19769311e-06,   9.34276136e-02],\n",
       "       [  1.99201004e+01,   8.79417881e-07,   9.34275190e-02],\n",
       "       [  1.99200819e+01,  -4.41397715e-06,   9.34276044e-02],\n",
       "       [  1.99200233e+01,  -2.06549863e-06,   9.34283410e-02]]), array([ 0.0021314,  0.0021314,  0.0021314,  0.0021314]))\n",
       "           fun: 0.0021313957781283368\n",
       "       message: 'Optimization terminated successfully.'\n",
       "          nfev: 417\n",
       "           nit: 236\n",
       "        status: 0\n",
       "       success: True\n",
       "             x: array([  1.99200830e+01,   2.19769311e-06,   9.34276136e-02])"
      ]
     },
     "execution_count": 65,
     "metadata": {},
     "output_type": "execute_result"
    }
   ],
   "source": [
    "# Minimize the cost function with 'Nelder-Mead'\n",
    "res = minimize(cost_SABR, [0.15,0.3,0.3], method='Nelder-Mead'); res"
   ]
  },
  {
   "cell_type": "markdown",
   "metadata": {},
   "source": [
    "`'Optimization terminated successfully.'` \n",
    "\n",
    "The calibrated parameters are: "
   ]
  },
  {
   "cell_type": "code",
   "execution_count": 66,
   "metadata": {
    "scrolled": true
   },
   "outputs": [
    {
     "data": {
      "text/plain": [
       "array([  1.99200830e+01,   2.19769311e-06,   9.34276136e-02])"
      ]
     },
     "execution_count": 66,
     "metadata": {},
     "output_type": "execute_result"
    }
   ],
   "source": [
    "x = res.x; x"
   ]
  },
  {
   "cell_type": "code",
   "execution_count": 67,
   "metadata": {},
   "outputs": [
    {
     "data": {
      "image/png": "[encoded data removed]",
      "text/plain": [
       "<matplotlib.figure.Figure at 0x1a58f17d208>"
      ]
     },
     "metadata": {},
     "output_type": "display_data"
    }
   ],
   "source": [
    "# Plot results\n",
    "plt.figure(figsize=(9,6))\n",
    "\n",
    "line1, = plt.plot(strikes, iVols, label='Bachelier')\n",
    "line2, = plt.plot(strikes, [sigma(100, strike, 10, x[0], x[1], x[2], 0) \n",
    "                            for strike in strikes], label='SABR')\n",
    "\n",
    "plt.xlabel('Strike')\n",
    "plt.ylabel('Implied Volatility')\n",
    "plt.title('Implied Volatility across strikes, Bachelier\\'s Model')\n",
    "\n",
    "plt.legend(handler_map={line1: HandlerLine2D(numpoints=4)})\n",
    "plt.grid(True,linestyle='dotted')\n",
    "\n",
    "plt.show()"
   ]
  },
  {
   "cell_type": "markdown",
   "metadata": {},
   "source": [
    "Much better. "
   ]
  },
  {
   "cell_type": "markdown",
   "metadata": {},
   "source": [
    "### c. \n",
    "\n",
    "Same procedure as described in point 4.\n",
    "\n",
    "---\n",
    "\n",
    "### d.\n",
    "\n",
    "The price will be given by:\n",
    "\n",
    "$$Heston\\left(S_T+\\frac{1-a}{a}S_0, K+\\frac{1-a}{a}S_0, \\lambda a\\right)$$"
   ]
  },
  {
   "cell_type": "markdown",
   "metadata": {},
   "source": [
    "---\n",
    "\n",
    "---\n",
    "\n",
    "# Question 3: Dupire simulation\n",
    "\n",
    "## 1. Merton model implementation\n"
   ]
  },
  {
   "cell_type": "code",
   "execution_count": 68,
   "metadata": {
    "collapsed": true
   },
   "outputs": [],
   "source": [
    "import math"
   ]
  },
  {
   "cell_type": "code",
   "execution_count": 200,
   "metadata": {},
   "outputs": [],
   "source": [
    "def Merton(S=100, sigma=0.15, lmbda=0.1, m=-0.05, v=0.0225, K=100, T=3):\n",
    "    price = 0.0\n",
    "    comp = lmbda*(np.exp(m+0.5*v)-1)\n",
    "    for n in range(20):\n",
    "        spot = S * np.exp(n*(m+0.5*v)-comp*T)\n",
    "        vol = np.sqrt(sigma**2+n*v/T)\n",
    "        price += BlackScholes(S=spot, K=K, sigma=vol, T=T) * np.exp(-lmbda*T)/math.factorial(n)*(lmbda*T)**n\n",
    "    return price"
   ]
  },
  {
   "cell_type": "code",
   "execution_count": 70,
   "metadata": {},
   "outputs": [
    {
     "data": {
      "text/plain": [
       "10.823389628821344"
      ]
     },
     "execution_count": 70,
     "metadata": {},
     "output_type": "execute_result"
    }
   ],
   "source": [
    "Merton()"
   ]
  },
  {
   "cell_type": "markdown",
   "metadata": {},
   "source": [
    "---\n",
    "\n",
    "## 2. Monte-Carlo simulations for a Dupire fitted to the Merton market"
   ]
  },
  {
   "cell_type": "markdown",
   "metadata": {},
   "source": [
    "We will attempt to implement the first scenario.\n",
    "\n",
    "For $Merton_KK$, we know that Black Scholes formula is a homogeneous function of degree one, and so we can appy Euler's Theorem to find the first derivative:\n",
    "\n",
    "$$\\frac{\\partial BS}{\\partial K} = -N(d2)$$\n",
    "\n",
    "The second order derivative with respect to strike, becomes:\n",
    "\n",
    "\\begin{align*}\n",
    "    \\frac{\\partial^2 BS}{\\partial K^2} & = -n(d2) \\frac{\\partial d2}{\\partial K}\\\\\n",
    "    & = \\frac{n(d2)}{K\\sigma\\sqrt{T}}\n",
    "\\end{align*}\n",
    "\n",
    "The analytical solution for Merton's theta benefits from the following derivations:\n",
    "\n",
    "\\begin{align*}\n",
    "\t\\frac{\\partial}{\\partial T} \\left(BS\\left(T\\right)\\frac{e^{-\\lambda T}}{n!}(\\lambda T)^n\\right) & = \\frac{\\partial}{\\partial T} BS\\left(T\\right) \n",
    "    \\frac{e^{-\\lambda T}}{n!}(\\lambda T)^n + BS\\left(T\\right) \\frac{\\partial}{\\partial T} \\left(\\frac{e^{-\\lambda T}}{n!}(\\lambda T)^n\\right)\\\\\n",
    "& = \\left(-comp \\cdot spot\\cdot N\\left(d1\\right) + spot\\cdot n\\left(d1\\right) \\frac{\\partial d1}{\\partial T} -K n\\left(d2\\right)\\frac{\\partial d2}{\\partial T}\\right)\\frac{e^{-\\lambda T}}{n!}(\\lambda T)^n \\\\\n",
    "& \\quad + BS\\left(T\\right) \\frac{e^{-\\lambda T}}{T n!}(\\lambda T)^n\\left(n-T\\lambda \\right)\\\\\n",
    "\\end{align*}\n",
    "\n",
    "with \n",
    "$$\\frac{\\partial d1}{\\partial T} = -\\frac{comp}{vol\\sqrt{T}}-\\ln\\left(\\frac{spot}{K}\\right)\\frac{\\sigma^2}{2 (vol\\sqrt{T})^3}+\\frac{\\sigma^2}{4vol\\sqrt{T}}$$\n",
    "$$\\frac{\\partial d2}{\\partial T} = \\frac{\\partial d1}{\\partial T} - \\frac{\\sigma^2}{2vol\\sqrt{T}}$$\n",
    "\n",
    "Alternatively, to find $Merton_T$, we may simply use an approximation $\\left(Merton(\\cdot,T+\\epsilon)-Merton(\\cdot,T)\\right)/\\epsilon$."
   ]
  },
  {
   "cell_type": "code",
   "execution_count": 247,
   "metadata": {},
   "outputs": [],
   "source": [
    "def MonteCarlo_Dupire(S, sigma, lmbda, m, v, K, T, nPaths, nSteps):\n",
    "    dt = T / nSteps\n",
    "    logS = np.full(nPaths, np.log(S))\n",
    "    comp = lmbda*(np.exp(m+0.5*v)-1)\n",
    "    \n",
    "    for i in range(nSteps):\n",
    "        Ti = T - i*dt\n",
    "        Si = np.exp(logS)\n",
    "        \n",
    "        M_T = 0.0\n",
    "        M_KK = 0.0\n",
    "        for n in range(20):\n",
    "            spot = S * np.exp(n*(m+0.5*v)-comp*Ti)\n",
    "            vol = np.sqrt(sigma**2+n*v/Ti)\n",
    "            std = vol*np.sqrt(Ti)\n",
    "                   \n",
    "            d1 = np.log(spot/Si) / std + 0.5*std\n",
    "            d2 = d1 - std\n",
    "            \n",
    "            dd1 = -comp/std - 0.5*np.log(spot/Si)*sigma**2/std**3 + 0.25*sigma**2/std\n",
    "            dd2 = dd1 - 0.5*sigma**2/std\n",
    "            \n",
    "#             M_T += (-comp*spot*norm.cdf(d1) + spot*norm.pdf(d1)*dd1 - Si*norm.pdf(d2)*dd2) \\\n",
    "#                 * np.exp(-lmbda*T)/math.factorial(n)*(lmbda*T)**n\\\n",
    "#                 + BlackScholes(S=spot, K=Si, sigma=vol, T=Ti) \\\n",
    "#                 * np.exp(-lmbda*T)/(T*math.factorial(n))*(lmbda*T)**n*(n-lmbda*T)\n",
    "                \n",
    "            M_KK += scipy.stats.norm.pdf(d2)/(Si*std) \\\n",
    "                * np.exp(-lmbda*Ti)/math.factorial(n)*(lmbda*Ti)**n\n",
    "        \n",
    "        \n",
    "        M0 = Merton(S, sigma, lmbda, m, v, np.exp(logS), Ti)\n",
    "        eps = 1e-4 / (10*i+1)\n",
    "        M_T = (Merton(S, sigma, lmbda, m, v, np.exp(logS), Ti + eps)-M0) / eps\n",
    "\n",
    "        # Compute LV\n",
    "        LV = np.sqrt(2*M_T / (K**2*M_KK))\n",
    "#         print(LV[:2])\n",
    "        logS = logS - 0.5*LV**2*dt + LV*np.sqrt(dt) * np.random.normal(size=nPaths)\n",
    "\n",
    "    return np.mean(np.maximum(np.exp(logS) - K, 0))"
   ]
  },
  {
   "cell_type": "markdown",
   "metadata": {},
   "source": [
    "---\n",
    "## 3."
   ]
  },
  {
   "cell_type": "code",
   "execution_count": 250,
   "metadata": {
    "scrolled": true
   },
   "outputs": [
    {
     "data": {
      "text/plain": [
       "11.063007864038438"
      ]
     },
     "execution_count": 250,
     "metadata": {},
     "output_type": "execute_result"
    }
   ],
   "source": [
    "MonteCarlo_Dupire(100, 0.15, 0.1, -0.05, 0.0225, 100, 3, 1000, 300)"
   ]
  },
  {
   "cell_type": "markdown",
   "metadata": {},
   "source": [
    "The result is close to our Merton result:"
   ]
  },
  {
   "cell_type": "code",
   "execution_count": 244,
   "metadata": {},
   "outputs": [
    {
     "data": {
      "text/plain": [
       "10.823389628821344"
      ]
     },
     "execution_count": 244,
     "metadata": {},
     "output_type": "execute_result"
    }
   ],
   "source": [
    "Merton()"
   ]
  }
 ],
 "metadata": {
  "kernelspec": {
   "display_name": "Python 3",
   "language": "python",
   "name": "python3"
  },
  "language_info": {
   "codemirror_mode": {
    "name": "ipython",
    "version": 3
   },
   "file_extension": ".py",
   "mimetype": "text/x-python",
   "name": "python",
   "nbconvert_exporter": "python",
   "pygments_lexer": "ipython3",
   "version": "3.6.3"
  }
 },
 "nbformat": 4,
 "nbformat_minor": 2
}
